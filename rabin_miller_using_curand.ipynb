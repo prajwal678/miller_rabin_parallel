{
  "nbformat": 4,
  "nbformat_minor": 0,
  "metadata": {
    "colab": {
      "provenance": [],
      "gpuType": "T4"
    },
    "kernelspec": {
      "name": "python3",
      "display_name": "Python 3"
    },
    "language_info": {
      "name": "python"
    },
    "accelerator": "GPU"
  },
  "cells": [
    {
      "cell_type": "code",
      "execution_count": 1,
      "metadata": {
        "colab": {
          "base_uri": "https://localhost:8080/"
        },
        "id": "5-9spjOq81yb",
        "outputId": "87a92f56-a6eb-40e3-d778-32ff20005fc3"
      },
      "outputs": [
        {
          "output_type": "stream",
          "name": "stdout",
          "text": [
            "Tue May  6 06:56:03 2025       \n",
            "+-----------------------------------------------------------------------------------------+\n",
            "| NVIDIA-SMI 550.54.15              Driver Version: 550.54.15      CUDA Version: 12.4     |\n",
            "|-----------------------------------------+------------------------+----------------------+\n",
            "| GPU  Name                 Persistence-M | Bus-Id          Disp.A | Volatile Uncorr. ECC |\n",
            "| Fan  Temp   Perf          Pwr:Usage/Cap |           Memory-Usage | GPU-Util  Compute M. |\n",
            "|                                         |                        |               MIG M. |\n",
            "|=========================================+========================+======================|\n",
            "|   0  Tesla T4                       Off |   00000000:00:04.0 Off |                    0 |\n",
            "| N/A   45C    P8              9W /   70W |       0MiB /  15360MiB |      0%      Default |\n",
            "|                                         |                        |                  N/A |\n",
            "+-----------------------------------------+------------------------+----------------------+\n",
            "                                                                                         \n",
            "+-----------------------------------------------------------------------------------------+\n",
            "| Processes:                                                                              |\n",
            "|  GPU   GI   CI        PID   Type   Process name                              GPU Memory |\n",
            "|        ID   ID                                                               Usage      |\n",
            "|=========================================================================================|\n",
            "|  No running processes found                                                             |\n",
            "+-----------------------------------------------------------------------------------------+\n"
          ]
        }
      ],
      "source": [
        "!nvidia-smi"
      ]
    },
    {
      "cell_type": "code",
      "source": [
        "!pip install git+https://github.com/andreinechaev/nvcc4jupyter.git"
      ],
      "metadata": {
        "colab": {
          "base_uri": "https://localhost:8080/"
        },
        "id": "4apMvYfL9vs3",
        "outputId": "4b651c0e-eca0-4920-ac8c-85197c7ddef6"
      },
      "execution_count": 2,
      "outputs": [
        {
          "output_type": "stream",
          "name": "stdout",
          "text": [
            "Collecting git+https://github.com/andreinechaev/nvcc4jupyter.git\n",
            "  Cloning https://github.com/andreinechaev/nvcc4jupyter.git to /tmp/pip-req-build-im4tqw99\n",
            "  Running command git clone --filter=blob:none --quiet https://github.com/andreinechaev/nvcc4jupyter.git /tmp/pip-req-build-im4tqw99\n",
            "  Resolved https://github.com/andreinechaev/nvcc4jupyter.git to commit 28f872a2f99a1b201bcd0db14fdbc5a496b9bfd7\n",
            "  Installing build dependencies ... \u001b[?25l\u001b[?25hdone\n",
            "  Getting requirements to build wheel ... \u001b[?25l\u001b[?25hdone\n",
            "  Preparing metadata (pyproject.toml) ... \u001b[?25l\u001b[?25hdone\n",
            "Building wheels for collected packages: nvcc4jupyter\n",
            "  Building wheel for nvcc4jupyter (pyproject.toml) ... \u001b[?25l\u001b[?25hdone\n",
            "  Created wheel for nvcc4jupyter: filename=nvcc4jupyter-1.2.1-py3-none-any.whl size=10742 sha256=fdb30b442a03a2b978d94f242f4f3839c3b517111d4c5bcc31496f40b5aacbba\n",
            "  Stored in directory: /tmp/pip-ephem-wheel-cache-7n3w01uy/wheels/ef/1d/c6/f7e47f1aa1bc9d05c4120d94f90a79cf28603ef343b0dd43ff\n",
            "Successfully built nvcc4jupyter\n",
            "Installing collected packages: nvcc4jupyter\n",
            "Successfully installed nvcc4jupyter-1.2.1\n"
          ]
        }
      ]
    },
    {
      "cell_type": "code",
      "source": [
        "%load_ext nvcc4jupyter"
      ],
      "metadata": {
        "colab": {
          "base_uri": "https://localhost:8080/"
        },
        "id": "l7tWHEkn9yX4",
        "outputId": "c4b36b5c-62f9-44b3-c209-e069b3a1b6f3"
      },
      "execution_count": 3,
      "outputs": [
        {
          "output_type": "stream",
          "name": "stdout",
          "text": [
            "Detected platform \"Colab\". Running its setup...\n",
            "Source files will be saved in \"/tmp/tmp92p56qlt\".\n"
          ]
        }
      ]
    },
    {
      "cell_type": "code",
      "source": [
        "!nvcc --version"
      ],
      "metadata": {
        "colab": {
          "base_uri": "https://localhost:8080/"
        },
        "id": "mcrJJK8L95mi",
        "outputId": "3efdd7f5-8efc-4a21-e75b-629499e21e68"
      },
      "execution_count": 4,
      "outputs": [
        {
          "output_type": "stream",
          "name": "stdout",
          "text": [
            "nvcc: NVIDIA (R) Cuda compiler driver\n",
            "Copyright (c) 2005-2024 NVIDIA Corporation\n",
            "Built on Thu_Jun__6_02:18:23_PDT_2024\n",
            "Cuda compilation tools, release 12.5, V12.5.82\n",
            "Build cuda_12.5.r12.5/compiler.34385749_0\n"
          ]
        }
      ]
    },
    {
      "cell_type": "code",
      "source": [
        "!apt-get update -qq\n",
        "!apt-get install -y -qq cuda-nvcc-11-8"
      ],
      "metadata": {
        "colab": {
          "base_uri": "https://localhost:8080/"
        },
        "id": "gsXSxPSM-ZXo",
        "outputId": "50f84d92-b724-4c7b-ed04-432b35edfc28"
      },
      "execution_count": 5,
      "outputs": [
        {
          "output_type": "stream",
          "name": "stdout",
          "text": [
            "W: Skipping acquire of configured file 'main/source/Sources' as repository 'https://r2u.stat.illinois.edu/ubuntu jammy InRelease' does not seem to provide it (sources.list entry misspelt?)\n",
            "Selecting previously unselected package cuda-cccl-11-8.\n",
            "(Reading database ... 126101 files and directories currently installed.)\n",
            "Preparing to unpack .../0-cuda-cccl-11-8_11.8.89-1_amd64.deb ...\n",
            "Unpacking cuda-cccl-11-8 (11.8.89-1) ...\n",
            "Selecting previously unselected package cuda-toolkit-11-config-common.\n",
            "Preparing to unpack .../1-cuda-toolkit-11-config-common_11.8.89-1_all.deb ...\n",
            "Unpacking cuda-toolkit-11-config-common (11.8.89-1) ...\n",
            "Selecting previously unselected package cuda-toolkit-11-8-config-common.\n",
            "Preparing to unpack .../2-cuda-toolkit-11-8-config-common_11.8.89-1_all.deb ...\n",
            "Unpacking cuda-toolkit-11-8-config-common (11.8.89-1) ...\n",
            "Selecting previously unselected package cuda-cudart-11-8.\n",
            "Preparing to unpack .../3-cuda-cudart-11-8_11.8.89-1_amd64.deb ...\n",
            "Unpacking cuda-cudart-11-8 (11.8.89-1) ...\n",
            "Selecting previously unselected package cuda-driver-dev-11-8.\n",
            "Preparing to unpack .../4-cuda-driver-dev-11-8_11.8.89-1_amd64.deb ...\n",
            "Unpacking cuda-driver-dev-11-8 (11.8.89-1) ...\n",
            "Selecting previously unselected package cuda-cudart-dev-11-8.\n",
            "Preparing to unpack .../5-cuda-cudart-dev-11-8_11.8.89-1_amd64.deb ...\n",
            "Unpacking cuda-cudart-dev-11-8 (11.8.89-1) ...\n",
            "Selecting previously unselected package cuda-nvcc-11-8.\n",
            "Preparing to unpack .../6-cuda-nvcc-11-8_11.8.89-1_amd64.deb ...\n",
            "Unpacking cuda-nvcc-11-8 (11.8.89-1) ...\n",
            "Setting up cuda-toolkit-11-config-common (11.8.89-1) ...\n",
            "Setting up cuda-cccl-11-8 (11.8.89-1) ...\n",
            "Setting up cuda-toolkit-11-8-config-common (11.8.89-1) ...\n",
            "Setting alternatives\n",
            "update-alternatives: using /usr/local/cuda-11.8 to provide /usr/local/cuda-11 (cuda-11) in auto mode\n",
            "Setting up cuda-driver-dev-11-8 (11.8.89-1) ...\n",
            "Setting up cuda-cudart-11-8 (11.8.89-1) ...\n",
            "Setting up cuda-cudart-dev-11-8 (11.8.89-1) ...\n",
            "Setting up cuda-nvcc-11-8 (11.8.89-1) ...\n",
            "Processing triggers for libc-bin (2.35-0ubuntu3.8) ...\n",
            "/sbin/ldconfig.real: /usr/local/lib/libtbbbind_2_0.so.3 is not a symbolic link\n",
            "\n",
            "/sbin/ldconfig.real: /usr/local/lib/libtbbbind_2_5.so.3 is not a symbolic link\n",
            "\n",
            "/sbin/ldconfig.real: /usr/local/lib/libtbb.so.12 is not a symbolic link\n",
            "\n",
            "/sbin/ldconfig.real: /usr/local/lib/libtbbmalloc.so.2 is not a symbolic link\n",
            "\n",
            "/sbin/ldconfig.real: /usr/local/lib/libumf.so.0 is not a symbolic link\n",
            "\n",
            "/sbin/ldconfig.real: /usr/local/lib/libhwloc.so.15 is not a symbolic link\n",
            "\n",
            "/sbin/ldconfig.real: /usr/local/lib/libur_adapter_level_zero.so.0 is not a symbolic link\n",
            "\n",
            "/sbin/ldconfig.real: /usr/local/lib/libtcm_debug.so.1 is not a symbolic link\n",
            "\n",
            "/sbin/ldconfig.real: /usr/local/lib/libur_adapter_opencl.so.0 is not a symbolic link\n",
            "\n",
            "/sbin/ldconfig.real: /usr/local/lib/libtcm.so.1 is not a symbolic link\n",
            "\n",
            "/sbin/ldconfig.real: /usr/local/lib/libur_loader.so.0 is not a symbolic link\n",
            "\n",
            "/sbin/ldconfig.real: /usr/local/lib/libtbbmalloc_proxy.so.2 is not a symbolic link\n",
            "\n",
            "/sbin/ldconfig.real: /usr/local/lib/libtbbbind.so.3 is not a symbolic link\n",
            "\n"
          ]
        }
      ]
    },
    {
      "cell_type": "code",
      "source": [
        "%%writefile somethingsomething.cu\n",
        "// Includes we need: CUDA stuff, random number gen, and basic types\n",
        "#include <stdio.h>\n",
        "#include <stdlib.h>\n",
        "#include <cuda_runtime.h>\n",
        "#include <curand_kernel.h>\n",
        "#include <stdint.h> // for uint64_t\n",
        "#include <time.h>   // for seeding RNGs\n",
        "\n",
        "// This is just some handy typedefs\n",
        "typedef unsigned long long uint64;\n",
        "typedef unsigned __int128 uint128; // works only on GCC/Clang\n",
        "\n",
        "// Holds parameters we need for Montgomery arithmetic\n",
        "typedef struct {\n",
        "    uint64 n;\n",
        "    uint64 n_prime;         // n' so that n * n' = -1 mod 2^64\n",
        "    uint64 r_squared_mod_n; // R^2 mod n (R = 2^64)\n",
        "} MontgomeryParams;\n",
        "\n",
        "// --- Montgomery Arithmetic Stuff ---\n",
        "\n",
        "// Figure out n' such that n * n' ≡ -1 mod 2^64\n",
        "// Uses Newton’s method, because it's quick and does the trick apparently\n",
        "__device__ uint64 compute_n_prime(uint64 n) {\n",
        "    uint64 n_prime = n;\n",
        "    for (int i = 0; i < 5; ++i) {\n",
        "        n_prime *= (2ULL - n * n_prime);\n",
        "    }\n",
        "    return -n_prime;\n",
        "}\n",
        "\n",
        "// Basic (a * b) mod n without any fancy optimization\n",
        "__device__ uint64 mul_mod(uint64 a, uint64 b, uint64 n) {\n",
        "    uint128 product = (uint128)a * b;\n",
        "    return (uint64)(product % n);\n",
        "}\n",
        "\n",
        "// Get R^2 mod n where R = 2^64 — needed for Montgomery magic\n",
        "__device__ uint64 compute_r_squared(uint64 n) {\n",
        "    uint128 r = 1;\n",
        "    r <<= 64; // Now r = 2^64\n",
        "    uint64 r_mod_n = (uint64)(r % n);\n",
        "    uint128 r_mod_n_sq = (uint128)r_mod_n * r_mod_n;\n",
        "    return (uint64)(r_mod_n_sq % n);\n",
        "}\n",
        "\n",
        "// Sets up Montgomery parameters for a given modulus n\n",
        "__device__ void compute_montgomery_params(uint64 n, MontgomeryParams* params) {\n",
        "    params->n = n;\n",
        "    params->n_prime = compute_n_prime(n);\n",
        "    params->r_squared_mod_n = compute_r_squared(n);\n",
        "}\n",
        "\n",
        "// Do a Montgomery reduction: squish T down by R mod n\n",
        "__device__ uint64 montgomery_reduce(uint128 t, const MontgomeryParams* params) {\n",
        "    uint64 n = params->n;\n",
        "    uint64 n_prime = params->n_prime;\n",
        "\n",
        "    uint64 m = (uint64)t * n_prime; // Multiply low 64 bits by n'\n",
        "\n",
        "    uint128 sum = t + (uint128)m * n;\n",
        "    uint64 result = (uint64)(sum >> 64); // Divide by R = 2^64 via bitshift\n",
        "\n",
        "    // Make sure result is within [0, n)\n",
        "    if (result >= n) {\n",
        "        result -= n;\n",
        "    }\n",
        "    return result;\n",
        "}\n",
        "\n",
        "// Montgomery multiplication: a * b * R^-1 mod n\n",
        "__device__ uint64 montgomery_multiply(uint64 a_mont, uint64 b_mont, const MontgomeryParams* params) {\n",
        "    uint128 product = (uint128)a_mont * b_mont;\n",
        "    return montgomery_reduce(product, params);\n",
        "}\n",
        "\n",
        "// Convert a normal number to Montgomery form\n",
        "__device__ uint64 to_montgomery(uint64 a, const MontgomeryParams* params) {\n",
        "    return montgomery_multiply(a, params->r_squared_mod_n, params);\n",
        "}\n",
        "\n",
        "// Convert from Montgomery form back to regular integer\n",
        "__device__ uint64 from_montgomery(uint64 a_mont, const MontgomeryParams* params) {\n",
        "    return montgomery_reduce((uint128)a_mont, params);\n",
        "}\n",
        "\n",
        "// --- Modular Exponentiation with Montgomery ---\n",
        "\n",
        "// Compute base^exponent mod n using Montgomery methods\n",
        "__device__ uint64 mod_pow_montgomery(uint64 base, uint64 exponent, const MontgomeryParams* params) {\n",
        "    uint64 n = params->n;\n",
        "    if (n == 1) return 0; // Trivial edge case\n",
        "\n",
        "    // Work in Montgomery space\n",
        "    uint64 base_mont = to_montgomery(base % n, params);\n",
        "    uint64 result_mont = to_montgomery(1, params); // Start with 1\n",
        "\n",
        "    while (exponent > 0) {\n",
        "        if (exponent & 1) {\n",
        "            result_mont = montgomery_multiply(result_mont, base_mont, params);\n",
        "        }\n",
        "        base_mont = montgomery_multiply(base_mont, base_mont, params);\n",
        "        exponent >>= 1;\n",
        "    }\n",
        "\n",
        "    return from_montgomery(result_mont, params);\n",
        "}\n",
        "\n",
        "// --- Rabin-Miller Primality Test ---\n",
        "\n",
        "// GPU-side Rabin-Miller test — checks if n is probably prime\n",
        "__device__ int rabin_miller_test_device(uint64 n, int k, curandState* rand_state, MontgomeryParams* params) {\n",
        "    // Quick checks for small numbers and even numbers\n",
        "    if (n <= 1 || n == 4) return 0;\n",
        "    if (n <= 3) return 1;\n",
        "    if ((n & 1) == 0) return 0;\n",
        "\n",
        "    compute_montgomery_params(n, params);\n",
        "\n",
        "    // Decompose n - 1 as d * 2^s\n",
        "    uint64 d = n - 1;\n",
        "    int s = 0;\n",
        "    while ((d & 1) == 0) {\n",
        "        d >>= 1;\n",
        "        s++;\n",
        "    }\n",
        "\n",
        "    for (int i = 0; i < k; ++i) {\n",
        "        uint64 a;\n",
        "        do {\n",
        "            double rand_double = curand_uniform_double(rand_state);\n",
        "            a = (n > 4) ? 2ULL + (uint64)(rand_double * (double)(n - 3ULL)) : 2ULL;\n",
        "        } while (a < 2 || a >= n - 1);\n",
        "\n",
        "        uint64 x = mod_pow_montgomery(a, d, params);\n",
        "\n",
        "        if (x == 1 || x == n - 1) continue;\n",
        "\n",
        "        int r;\n",
        "        for (r = 0; r < s - 1; ++r) {\n",
        "            uint64 x_mont = to_montgomery(x, params);\n",
        "            x = from_montgomery(montgomery_multiply(x_mont, x_mont, params), params);\n",
        "\n",
        "            if (x == n - 1) break;\n",
        "            if (x == 1) return 0;\n",
        "        }\n",
        "\n",
        "        if (r == s - 1 && x != n - 1) return 0;\n",
        "    }\n",
        "\n",
        "    return 1; // Probably prime!\n",
        "}\n",
        "\n",
        "// --- CUDA Kernels ---\n",
        "\n",
        "// Set up CURAND RNG states (one per thread)\n",
        "__global__ void init_curand_kernel(curandState *states, int num_elements, unsigned long long seed) {\n",
        "    int tid = blockIdx.x * blockDim.x + threadIdx.x;\n",
        "    if (tid < num_elements) {\n",
        "        curand_init(seed, tid, 0, &states[tid]); // Unique sequence per thread\n",
        "    }\n",
        "}\n",
        "\n",
        "// Kernel to run Rabin-Miller on an array of numbers\n",
        "__global__ void rabin_miller_kernel(uint64* n_values, int* results, int num_elements, curandState* rand_states) {\n",
        "    int tid = blockIdx.x * blockDim.x + threadIdx.x;\n",
        "\n",
        "    if (tid < num_elements) {\n",
        "        uint64 n = n_values[tid];\n",
        "        curandState local_rand_state = rand_states[tid]; // Copy state locally\n",
        "        MontgomeryParams params;\n",
        "\n",
        "        results[tid] = rabin_miller_test_device(n, K_WITNESSES, &local_rand_state, &params);\n",
        "\n",
        "        rand_states[tid] = local_rand_state; // Don't forget to write it back!\n",
        "    }\n",
        "}\n",
        "\n",
        "\n",
        "// --- Helper to check CUDA errors ---\n",
        "void checkCuda(cudaError_t err, const char* msg) {\n",
        "    if (err != cudaSuccess) {\n",
        "        fprintf(stderr, \"CUDA Error: %s (%s)\\n\", msg, cudaGetErrorString(err));\n",
        "        exit(EXIT_FAILURE);\n",
        "    }\n",
        "}\n",
        "\n",
        "// --- Main function ---\n",
        "int main() {\n",
        "    // Example numbers to test\n",
        "    uint64 h_n[] = {\n",
        "        2, 3, 4, 5, 7, 11, 13, 17, 19, 23, // Small primes/composites\n",
        "        100, 101, 103, 107, 109,          // Around 100\n",
        "        999999999989ULL,                  // Large prime\n",
        "        1000000000000000003ULL,           // Larger prime\n",
        "        1000000000000000005ULL,           // Composite (ends in 5)\n",
        "        1000000000000000007ULL,           // Prime\n",
        "        (1ULL << 61) - 1,                 // Mersenne prime M61\n",
        "        ((1ULL << 61) - 1) * 2,           // Even composite\n",
        "        ((1ULL << 61) - 1) * 3,           // Composite\n",
        "        1152921504606846899ULL,           // Prime ( near 2^60 )\n",
        "        1152921504606846901ULL,           // Composite\n",
        "         7919, 137, 65537,                 // Primes\n",
        "         1729, 99, 561                     // Composites (561 = Carmichael)\n",
        "    };\n",
        "    int num_elements = sizeof(h_n) / sizeof(h_n[0]);\n",
        "    int* h_results = (int*)malloc(num_elements * sizeof(int));\n",
        "\n",
        "    if (!h_results) {\n",
        "        fprintf(stderr, \"Failed to allocate host memory for results.\\n\");\n",
        "        return 1;\n",
        "    }\n",
        "\n",
        "    printf(\"Testing %d numbers for primality using CUDA Rabin-Miller with Montgomery Multiplication...\\n\", num_elements);\n",
        "\n",
        "    // Allocate device memory\n",
        "    uint64* d_n;\n",
        "    int* d_results;\n",
        "    curandState* d_rand_states;\n",
        "    checkCuda(cudaMalloc(&d_n, num_elements * sizeof(uint64)), \"cudaMalloc d_n\");\n",
        "    checkCuda(cudaMalloc(&d_results, num_elements * sizeof(int)), \"cudaMalloc d_results\");\n",
        "    checkCuda(cudaMalloc(&d_rand_states, num_elements * sizeof(curandState)), \"cudaMalloc d_rand_states\");\n",
        "\n",
        "    // Copy input numbers to device\n",
        "    checkCuda(cudaMemcpy(d_n, h_n, num_elements * sizeof(uint64), cudaMemcpyHostToDevice), \"cudaMemcpy h_n to d_n\");\n",
        "\n",
        "    // Initialize CURAND states on the device\n",
        "    int threads_per_block_init = 256;\n",
        "    int blocks_init = (num_elements + threads_per_block_init - 1) / threads_per_block_init;\n",
        "\n",
        "    init_curand_kernel<<<blocks_init, threads_per_block_init>>>(d_rand_states, num_elements, time(NULL));\n",
        "    checkCuda(cudaGetLastError(), \"Kernel launch failure: init_curand_kernel\");\n",
        "    checkCuda(cudaDeviceSynchronize(), \"cudaDeviceSynchronize after init_curand\");\n",
        "\n",
        "    // Configure and launch the Rabin-Miller kernel\n",
        "    int threads_per_block = 256;\n",
        "    int blocks = (num_elements + threads_per_block - 1) / threads_per_block;\n",
        "    printf(\"Launching kernel with %d blocks, %d threads per block.\\n\", blocks, threads_per_block);\n",
        "\n",
        "    rabin_miller_kernel<<<blocks, threads_per_block>>>(d_n, d_results, num_elements, d_rand_states);\n",
        "    checkCuda(cudaGetLastError(), \"Kernel launch failure: rabin_miller_kernel\");\n",
        "\n",
        "    // Synchronize to ensure kernel completion before copying results\n",
        "    checkCuda(cudaDeviceSynchronize(), \"cudaDeviceSynchronize after kernel\");\n",
        "\n",
        "    // Copy results back to host\n",
        "    checkCuda(cudaMemcpy(h_results, d_results, num_elements * sizeof(int), cudaMemcpyDeviceToHost), \"cudaMemcpy d_results to h_results\");\n",
        "\n",
        "    // Print results\n",
        "    printf(\"Results (%d witnesses):\\n\", K_WITNESSES);\n",
        "    for (int i = 0; i < num_elements; ++i) {\n",
        "        printf(\"  %llu: %s\\n\", h_n[i], h_results[i] ? \"Probably Prime\" : \"Composite\");\n",
        "    }\n",
        "\n",
        "    // Free memory\n",
        "    free(h_results);\n",
        "    checkCuda(cudaFree(d_n), \"cudaFree d_n\");\n",
        "    checkCuda(cudaFree(d_results), \"cudaFree d_results\");\n",
        "    checkCuda(cudaFree(d_rand_states), \"cudaFree d_rand_states\");\n",
        "\n",
        "    printf(\"Done.\\n\");\n",
        "    return 0;\n",
        "}"
      ],
      "metadata": {
        "colab": {
          "base_uri": "https://localhost:8080/"
        },
        "id": "4VbHycF697yp",
        "outputId": "e1cf76e8-15f9-4d20-d395-2f15bfecd18c"
      },
      "execution_count": 8,
      "outputs": [
        {
          "output_type": "stream",
          "name": "stdout",
          "text": [
            "Overwriting somethingsomething.cu\n"
          ]
        }
      ]
    },
    {
      "cell_type": "code",
      "source": [
        "!nvcc -arch=sm_75 somethingsomething.cu -o rabin_miller"
      ],
      "metadata": {
        "id": "y2pIsrzx-LnH"
      },
      "execution_count": 9,
      "outputs": []
    },
    {
      "cell_type": "code",
      "source": [
        "!time ./rabin_miller"
      ],
      "metadata": {
        "colab": {
          "base_uri": "https://localhost:8080/"
        },
        "id": "R6HZZzYg_3C4",
        "outputId": "4a2b8d3a-4b6c-49f5-b31d-4a71b0234842"
      },
      "execution_count": 10,
      "outputs": [
        {
          "output_type": "stream",
          "name": "stdout",
          "text": [
            "Testing 30 numbers for primality using CUDA Rabin-Miller with Montgomery Multiplication...\n",
            "Launching kernel with 1 blocks, 256 threads per block.\n",
            "Results (10 witnesses):\n",
            "  2: Probably Prime\n",
            "  3: Probably Prime\n",
            "  4: Composite\n",
            "  5: Probably Prime\n",
            "  7: Probably Prime\n",
            "  11: Probably Prime\n",
            "  13: Probably Prime\n",
            "  17: Probably Prime\n",
            "  19: Probably Prime\n",
            "  23: Probably Prime\n",
            "  100: Composite\n",
            "  101: Probably Prime\n",
            "  103: Probably Prime\n",
            "  107: Probably Prime\n",
            "  109: Probably Prime\n",
            "  999999999989: Probably Prime\n",
            "  1000000000000000003: Probably Prime\n",
            "  1000000000000000005: Composite\n",
            "  1000000000000000007: Composite\n",
            "  2305843009213693951: Probably Prime\n",
            "  4611686018427387902: Composite\n",
            "  6917529027641081853: Composite\n",
            "  1152921504606846899: Composite\n",
            "  1152921504606846901: Composite\n",
            "  7919: Probably Prime\n",
            "  137: Probably Prime\n",
            "  65537: Probably Prime\n",
            "  1729: Composite\n",
            "  99: Composite\n",
            "  561: Composite\n",
            "Done.\n",
            "\n",
            "real\t0m0.177s\n",
            "user\t0m0.016s\n",
            "sys\t0m0.113s\n"
          ]
        }
      ]
    },
    {
      "cell_type": "code",
      "source": [],
      "metadata": {
        "id": "lvw87Eno_86n"
      },
      "execution_count": null,
      "outputs": []
    }
  ]
}